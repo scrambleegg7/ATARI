{
  "nbformat": 4,
  "nbformat_minor": 0,
  "metadata": {
    "colab": {
      "name": "Resize dataset.ipynb",
      "provenance": [],
      "toc_visible": true,
      "include_colab_link": true
    },
    "kernelspec": {
      "name": "python3",
      "display_name": "Python 3"
    },
    "accelerator": "GPU"
  },
  "cells": [
    {
      "cell_type": "markdown",
      "metadata": {
        "id": "view-in-github",
        "colab_type": "text"
      },
      "source": [
        "<a href=\"https://colab.research.google.com/github/scrambleegg7/ATARI/blob/master/rsna_resize_dataset.ipynb\" target=\"_parent\"><img src=\"https://colab.research.google.com/assets/colab-badge.svg\" alt=\"Open In Colab\"/></a>"
      ]
    },
    {
      "cell_type": "markdown",
      "metadata": {
        "id": "FakRWDPtXfXs",
        "colab_type": "text"
      },
      "source": [
        "The DICOM format is so cool, but I prefer normal images :)\n",
        "\n",
        "With 156GB (compressed) it is very difficult to work with the resources of the vast majority of the mortals.\n",
        "This notebook shows you how to scale down all the images and create a new dataset easier to deal with.\n",
        "Even with the best computing resources, I don't think it's necessary to use the original size to get good accuracy.\n",
        "\n",
        "If you feel that you need bigger images or you want to store the images in another format you only need to change a couple of lines in the next section (Constants).\n",
        "\n",
        "Some code taken from:\n",
        "* https://www.kaggle.com/omission/eda-view-dicom-images-with-correct-windowing\n",
        "* https://www.kaggle.com/c/rsna-intracranial-hemorrhage-detection/discussion/109649#latest-631701\n",
        "\n",
        "# Configuration"
      ]
    },
    {
      "cell_type": "code",
      "metadata": {
        "id": "FvafClX-XrmH",
        "colab_type": "code",
        "colab": {}
      },
      "source": [
        "# Desired output size.\n",
        "RESIZED_WIDTH, RESIZED_HEIGHT = 128, 128\n",
        "\n",
        "OUTPUT_FORMAT = \"png\"\n",
        "\n",
        "OUTPUT_DIR = \"output\""
      ],
      "execution_count": 0,
      "outputs": []
    },
    {
      "cell_type": "markdown",
      "metadata": {
        "id": "f9VhPK8HoHt9",
        "colab_type": "text"
      },
      "source": [
        "# Installations"
      ]
    },
    {
      "cell_type": "code",
      "metadata": {
        "id": "5RQs59bLoL9_",
        "colab_type": "code",
        "colab": {}
      },
      "source": [
        "%%capture\n",
        "\n",
        "# Uninstall and reinstall kaggle because I'm getting and error: the kaggle script\n",
        "# is running on Python 2 instead of Python 3 and fails when downloading kernel\n",
        "# outputs.\n",
        "# It's also needed for download data for this competition.\n",
        "!pip uninstall -y kaggle\n",
        "!pip install kaggle"
      ],
      "execution_count": 0,
      "outputs": []
    },
    {
      "cell_type": "code",
      "metadata": {
        "id": "WXxbGtzXB7BZ",
        "colab_type": "code",
        "colab": {}
      },
      "source": [
        "%%capture\n",
        "\n",
        "# Install this library for reading the *.dcm images of this competition.\n",
        "!pip install pydicom"
      ],
      "execution_count": 0,
      "outputs": []
    },
    {
      "cell_type": "code",
      "metadata": {
        "id": "chgE9gVMQ4HP",
        "colab_type": "code",
        "colab": {}
      },
      "source": [
        "%%capture\n",
        "\n",
        "# Mount fuse-zip to mount zip files so we can access the files without unzip it.\n",
        "# This is needed because of the lack of space in Google Colab disk.\n",
        "!apt-get install -y fuse-zip"
      ],
      "execution_count": 0,
      "outputs": []
    },
    {
      "cell_type": "markdown",
      "metadata": {
        "id": "inFQEaaMoKe2",
        "colab_type": "text"
      },
      "source": [
        "# Imports"
      ]
    },
    {
      "cell_type": "code",
      "metadata": {
        "id": "EPNIQTvEmiXS",
        "colab_type": "code",
        "colab": {}
      },
      "source": [
        "import glob\n",
        "import os\n",
        "\n",
        "import joblib\n",
        "\n",
        "import numpy as np\n",
        "\n",
        "import PIL\n",
        "\n",
        "import pydicom\n",
        "\n",
        "import tqdm"
      ],
      "execution_count": 0,
      "outputs": []
    },
    {
      "cell_type": "markdown",
      "metadata": {
        "id": "BAIvD7YYm7VB",
        "colab_type": "text"
      },
      "source": [
        "# Setup"
      ]
    },
    {
      "cell_type": "code",
      "metadata": {
        "id": "nSQ1lTX4m8hS",
        "colab_type": "code",
        "colab": {}
      },
      "source": [
        "# Set environment variables for using the Kaggle API.\n",
        "os.environ[\"KAGGLE_USERNAME\"] = \"YOUR USERNAME HERE\"\n",
        "os.environ[\"KAGGLE_KEY\"] = \"YOUR KEY HERE\""
      ],
      "execution_count": 0,
      "outputs": []
    },
    {
      "cell_type": "markdown",
      "metadata": {
        "id": "zQmKznCJn6lU",
        "colab_type": "text"
      },
      "source": [
        "# Get the data"
      ]
    },
    {
      "cell_type": "code",
      "metadata": {
        "id": "hl-PZYtsnCOA",
        "colab_type": "code",
        "outputId": "ea23ec14-a4bb-453f-f048-16808a02bcaa",
        "colab": {
          "base_uri": "https://localhost:8080/",
          "height": 69
        }
      },
      "source": [
        "# 30-45min in Google Colab.\n",
        "raw_data_dir = \"input/raw\"\n",
        "!kaggle competitions download -c rsna-intracranial-hemorrhage-detection -p {raw_data_dir}"
      ],
      "execution_count": 0,
      "outputs": [
        {
          "output_type": "stream",
          "text": [
            "Downloading rsna-intracranial-hemorrhage-detection.zip to input/raw\n",
            "100% 156G/156G [47:03<00:00, 76.9MB/s]\n",
            "100% 156G/156G [47:03<00:00, 59.3MB/s]\n"
          ],
          "name": "stdout"
        }
      ]
    },
    {
      "cell_type": "markdown",
      "metadata": {
        "id": "6bQaxTBsUFeF",
        "colab_type": "text"
      },
      "source": [
        "# Mount ZIP with fuse-zip"
      ]
    },
    {
      "cell_type": "code",
      "metadata": {
        "id": "LrHBOVyYUJZa",
        "colab_type": "code",
        "colab": {}
      },
      "source": [
        "%%time\n",
        "# Around 10 min in Google Colab.\n",
        "\n",
        "input_dir = \"/tmp/kaggle-data\"\n",
        "!mkdir {input_dir}\n",
        "!fuse-zip input/raw/rsna-intracranial-hemorrhage-detection.zip {input_dir}"
      ],
      "execution_count": 0,
      "outputs": []
    },
    {
      "cell_type": "code",
      "metadata": {
        "id": "yE06xXqBWbws",
        "colab_type": "code",
        "outputId": "67616a60-74c3-451c-c6b5-762cb1c57889",
        "colab": {
          "base_uri": "https://localhost:8080/",
          "height": 52
        }
      },
      "source": [
        "# Check that everything is working.\n",
        "!ls {input_dir}"
      ],
      "execution_count": 0,
      "outputs": [
        {
          "output_type": "stream",
          "text": [
            "stage_1_sample_submission.csv  stage_1_train.csv\n",
            "stage_1_test_images\t       stage_1_train_images\n"
          ],
          "name": "stdout"
        }
      ]
    },
    {
      "cell_type": "markdown",
      "metadata": {
        "id": "gqo9cUAiU6Eo",
        "colab_type": "text"
      },
      "source": [
        "# Get images path"
      ]
    },
    {
      "cell_type": "code",
      "metadata": {
        "id": "7FsLeV_iYjdM",
        "colab_type": "code",
        "outputId": "bee710ce-79af-4798-c16f-92bd7e8cab4b",
        "colab": {
          "base_uri": "https://localhost:8080/",
          "height": 34
        }
      },
      "source": [
        "train_dir = \"stage_1_train_images\"\n",
        "train_paths = glob.glob(f\"{input_dir}/{train_dir}/*.dcm\")\n",
        "test_dir = \"stage_1_test_images\"\n",
        "test_paths = glob.glob(f\"{input_dir}/{test_dir}/*.dcm\")\n",
        "len(train_paths), len(test_paths)"
      ],
      "execution_count": 0,
      "outputs": [
        {
          "output_type": "execute_result",
          "data": {
            "text/plain": [
              "(674258, 78545)"
            ]
          },
          "metadata": {
            "tags": []
          },
          "execution_count": 6
        }
      ]
    },
    {
      "cell_type": "markdown",
      "metadata": {
        "id": "5S4WjV6IZQWd",
        "colab_type": "text"
      },
      "source": [
        "# Preprocess all data\n",
        "\n",
        "First declare a bunch of useful functions."
      ]
    },
    {
      "cell_type": "code",
      "metadata": {
        "id": "czP93llYZJxG",
        "colab_type": "code",
        "colab": {}
      },
      "source": [
        "def get_first_of_dicom_field_as_int(x):\n",
        "    if type(x) == pydicom.multival.MultiValue:\n",
        "        return int(x[0])\n",
        "    return int(x)\n",
        "\n",
        "def get_id(img_dicom):\n",
        "    return str(img_dicom.SOPInstanceUID)\n",
        "\n",
        "def get_metadata_from_dicom(img_dicom):\n",
        "    metadata = {\n",
        "        \"window_center\": img_dicom.WindowCenter,\n",
        "        \"window_width\": img_dicom.WindowWidth,\n",
        "        \"intercept\": img_dicom.RescaleIntercept,\n",
        "        \"slope\": img_dicom.RescaleSlope,\n",
        "    }\n",
        "    return {k: get_first_of_dicom_field_as_int(v) for k, v in metadata.items()}\n",
        "\n",
        "def window_image(img, window_center, window_width, intercept, slope):\n",
        "    img = img * slope + intercept\n",
        "    img_min = window_center - window_width // 2\n",
        "    img_max = window_center + window_width // 2\n",
        "    img[img < img_min] = img_min\n",
        "    img[img > img_max] = img_max\n",
        "    return img \n",
        "\n",
        "def resize(img, new_w, new_h):\n",
        "    img = PIL.Image.fromarray(img.astype(np.int8), mode=\"L\")\n",
        "    return img.resize((new_w, new_h), resample=PIL.Image.BICUBIC)\n",
        "\n",
        "def save_img(img_pil, subfolder, name):\n",
        "    img_pil.save(f\"{OUTPUT_DIR}/{subfolder}/{name}.{OUTPUT_FORMAT}\")\n",
        "\n",
        "def normalize_minmax(img):\n",
        "    mi, ma = img.min(), img.max()\n",
        "    return (img - mi) / (ma - mi)\n",
        "\n",
        "def prepare_image(img_path):\n",
        "    img_dicom = pydicom.read_file(img_path)\n",
        "    img_id = get_id(img_dicom)\n",
        "    metadata = get_metadata_from_dicom(img_dicom)\n",
        "    img = window_image(img_dicom.pixel_array, **metadata)\n",
        "    img = normalize_minmax(img) * 255\n",
        "    img_pil = resize(img, RESIZED_WIDTH, RESIZED_HEIGHT)\n",
        "    return img_id, img_pil\n",
        "\n",
        "def prepare_and_save(img_path, subfolder):\n",
        "    try:\n",
        "        img_id, img_pil = prepare_image(img_path)\n",
        "        save_img(img_pil, subfolder, img_id)\n",
        "    except KeyboardInterrupt:\n",
        "        # Rais interrupt exception so we can stop the cell execution\n",
        "        # without shutting down the kernel.\n",
        "        raise\n",
        "    except:\n",
        "        print(f\"Error processing the image: {img_path}\")\n",
        "\n",
        "def prepare_images(imgs_path, subfolder):\n",
        "    for i in tqdm.tqdm(imgs_path):\n",
        "        prepare_and_save(i, subfolder)\n",
        "\n",
        "def prepare_images_njobs(img_paths, subfolder, n_jobs=-1):\n",
        "    joblib.Parallel(n_jobs=n_jobs)(joblib.delayed(prepare_and_save)(i, subfolder) for i in tqdm.tqdm(img_paths))"
      ],
      "execution_count": 0,
      "outputs": []
    },
    {
      "cell_type": "code",
      "metadata": {
        "id": "RNEWQR3WZlWD",
        "colab_type": "code",
        "colab": {}
      },
      "source": [
        "!mkdir -p {OUTPUT_DIR}/{train_dir}\n",
        "!mkdir -p {OUTPUT_DIR}/{test_dir}"
      ],
      "execution_count": 0,
      "outputs": []
    },
    {
      "cell_type": "code",
      "metadata": {
        "id": "drIVljgkZoDR",
        "colab_type": "code",
        "outputId": "d81555b1-d671-45a5-bb63-f649e3d1fdf7",
        "colab": {
          "base_uri": "https://localhost:8080/",
          "height": 52
        }
      },
      "source": [
        "prepare_images_njobs(train_paths, train_dir)\n",
        "prepare_images_njobs(test_paths, test_dir)"
      ],
      "execution_count": 0,
      "outputs": [
        {
          "output_type": "stream",
          "text": [
            "100%|██████████| 674258/674258 [1:55:49<00:00, 97.03it/s]\n",
            "100%|██████████| 78545/78545 [13:14<00:00, 98.83it/s] \n"
          ],
          "name": "stderr"
        }
      ]
    },
    {
      "cell_type": "code",
      "metadata": {
        "id": "RD9B1SSsM2KM",
        "colab_type": "code",
        "colab": {}
      },
      "source": [
        "# Copy also extra files.\n",
        "!cp {input_dir}/stage_1_sample_submission.csv {OUTPUT_DIR}/\n",
        "!cp {input_dir}/stage_1_train.csv {OUTPUT_DIR}/"
      ],
      "execution_count": 0,
      "outputs": []
    },
    {
      "cell_type": "markdown",
      "metadata": {
        "id": "jNQ2p7braBSq",
        "colab_type": "text"
      },
      "source": [
        "# Load converted images\n",
        "\n",
        "Let's test that everything is ok!"
      ]
    },
    {
      "cell_type": "code",
      "metadata": {
        "id": "vswMH7giZxP0",
        "colab_type": "code",
        "outputId": "c3e06bc0-f787-4c73-9229-40429ced03dc",
        "colab": {
          "base_uri": "https://localhost:8080/",
          "height": 145
        }
      },
      "source": [
        "train_output_path = glob.glob(f\"{OUTPUT_DIR}/{train_dir}/*\")\n",
        "img_path = train_output_path[0]\n",
        "PIL.Image.open(img_path)"
      ],
      "execution_count": 0,
      "outputs": [
        {
          "output_type": "execute_result",
          "data": {
            "image/png": "[encoded data removed]",
            "text/plain": [
              "<PIL.PngImagePlugin.PngImageFile image mode=L size=128x128 at 0x7F6EB2E09898>"
            ]
          },
          "metadata": {
            "tags": []
          },
          "execution_count": 11
        }
      ]
    },
    {
      "cell_type": "markdown",
      "metadata": {
        "id": "WYUtvvI7Ngmv",
        "colab_type": "text"
      },
      "source": [
        "# Create Kaggle dataset"
      ]
    },
    {
      "cell_type": "code",
      "metadata": {
        "id": "GFXhRr_ORQ5e",
        "colab_type": "code",
        "colab": {}
      },
      "source": [
        "cmd = \"\"\"\n",
        "cat <<EOF > output/dataset-metadata.json\n",
        "{\n",
        "  \"title\": \"RSNA Train/Test png (128x128)\",\n",
        "  \"id\": \"guiferviz/rsna_png_128_128\",\n",
        "  \"licenses\": [\n",
        "    {\n",
        "      \"name\": \"CC0-1.0\"\n",
        "    }\n",
        "  ]\n",
        "}\n",
        "EOF\n",
        "\"\"\"\n",
        "!eval {cmd}"
      ],
      "execution_count": 0,
      "outputs": []
    },
    {
      "cell_type": "code",
      "metadata": {
        "id": "RZb_CmSETp2G",
        "colab_type": "code",
        "outputId": "97c508bc-aa02-42d0-da9f-80477eb3eb06",
        "colab": {
          "base_uri": "https://localhost:8080/",
          "height": 173
        }
      },
      "source": [
        "!cat output/dataset-metadata.json"
      ],
      "execution_count": 0,
      "outputs": [
        {
          "output_type": "stream",
          "text": [
            "{\n",
            "  \"title\": \"RSNA Train/Test png (128x128)\",\n",
            "  \"id\": \"guiferviz/rsna_png_128_128\",\n",
            "  \"licenses\": [\n",
            "    {\n",
            "      \"name\": \"CC0-1.0\"\n",
            "    }\n",
            "  ]\n",
            "}\n"
          ],
          "name": "stdout"
        }
      ]
    },
    {
      "cell_type": "code",
      "metadata": {
        "id": "FvOsJFGPUt2m",
        "colab_type": "code",
        "outputId": "3b9a9d90-45df-4272-c1be-a55937b83d4f",
        "colab": {
          "base_uri": "https://localhost:8080/",
          "height": 243
        }
      },
      "source": [
        "!kaggle datasets create -u --dir-mode zip -p {OUTPUT_DIR}"
      ],
      "execution_count": 0,
      "outputs": [
        {
          "output_type": "stream",
          "text": [
            "Starting upload for file stage_1_train.csv\n",
            "100% 102M/102M [00:13<00:00, 7.95MB/s] \n",
            "Upload successful: stage_1_train.csv (102MB)\n",
            "Starting upload for file stage_1_test_images.zip\n",
            "100% 353M/353M [00:17<00:00, 21.1MB/s]\n",
            "Upload successful: stage_1_test_images.zip (353MB)\n",
            "Starting upload for file stage_1_sample_submission.csv\n",
            "100% 12.8M/12.8M [00:08<00:00, 1.54MB/s]\n",
            "Upload successful: stage_1_sample_submission.csv (13MB)\n",
            "Starting upload for file stage_1_train_images.zip\n",
            "100% 2.87G/2.87G [01:16<00:00, 40.5MB/s]\n",
            "Upload successful: stage_1_train_images.zip (3GB)\n",
            "Your private Dataset is being created. Please check progress at https://www.kaggle.com/guiferviz/rsna_png_128_128\n"
          ],
          "name": "stdout"
        }
      ]
    }
  ]
}