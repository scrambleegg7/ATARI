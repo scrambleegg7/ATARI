{
 "cells": [
  {
   "cell_type": "code",
   "execution_count": 3,
   "metadata": {
    "collapsed": true
   },
   "outputs": [],
   "source": [
    "import networkx as nx\n",
    "import matplotlib.pyplot as plt\n",
    "import copy \n",
    "import numpy as np"
   ]
  },
  {
   "cell_type": "code",
   "execution_count": null,
   "metadata": {
    "collapsed": true
   },
   "outputs": [],
   "source": []
  },
  {
   "cell_type": "code",
   "execution_count": 3,
   "metadata": {
    "collapsed": true
   },
   "outputs": [],
   "source": [
    "G = nx.DiGraph()"
   ]
  },
  {
   "cell_type": "code",
   "execution_count": 7,
   "metadata": {
    "collapsed": true
   },
   "outputs": [],
   "source": [
    "G.add_node(1, attr_dict={'w': 0,'n': 0,'uct': 0,'expanded': False,'state': \"state1\"})"
   ]
  },
  {
   "cell_type": "code",
   "execution_count": null,
   "metadata": {
    "collapsed": true
   },
   "outputs": [],
   "source": []
  },
  {
   "cell_type": "code",
   "execution_count": 1,
   "metadata": {
    "collapsed": true
   },
   "outputs": [],
   "source": [
    "#\n",
    "import random\n",
    "import math\n",
    "import hashlib\n",
    "import logging\n",
    "import argparse\n",
    "import numpy as np\n",
    "\n",
    "\n",
    "class Board(object):\n",
    "    def __init__(self, board=np.array( [\" \"] * 10 )):\n",
    "        self.board = board # board is numpy array\n",
    "\n",
    "    def update(self,move,piece):\n",
    "        self.board[move] = piece\n",
    "\n",
    "    def isAvailable(self,move):\n",
    "        s = self.isfilled()\n",
    "        if move in s:\n",
    "            return True\n",
    "        else:\n",
    "            return False\n",
    "\n",
    "    def board_copy(self):\n",
    "        return self.board.copy()\n",
    "\n",
    "    def isfilled(self):\n",
    "        space = np.where(self.board == \" \")[0]\n",
    "        return space[1:]\n",
    "\n",
    "    def board_turn(self):\n",
    "        space = self.isfilled()\n",
    "        #print(\"** available space. (Board Class)\", space)\n",
    "        if len(space) > 0:\n",
    "            turn = 9- len(space)\n",
    "        if len(space) == 0:\n",
    "            turn = 9\n",
    "        return turn\n",
    "\n",
    "    def __repr__(self):\n",
    "        print('   |   |')\n",
    "        print(' ' + self.board[7] + ' | ' + self.board[8] + ' | ' + self.board[9])\n",
    "        print('   |   |')\n",
    "        print('-----------')\n",
    "        print('   |   |')\n",
    "        print(' ' + self.board[4] + ' | ' + self.board[5] + ' | ' + self.board[6])\n",
    "        print('   |   |')\n",
    "        print('-----------')\n",
    "        print('   |   |')\n",
    "        print(' ' + self.board[1] + ' | ' + self.board[2] + ' | ' + self.board[3])\n",
    "        print('   |   |')\n",
    "\n",
    "        turn = self.board_turn()\n",
    "        s=\"Current Board State. (fm:Board Class): turn %d\"%(turn)\n",
    "        return s\n",
    "\n",
    "    def isWin(self,le):\n",
    "        # bo - input board style\n",
    "        # le - letter on board from player's piece\n",
    "        bo = self.board.copy()\n",
    "        return ((bo[7] == le and bo[8] == le and bo[9] == le) or # across the top\n",
    "        (bo[4] == le and bo[5] == le and bo[6] == le) or # across the middle\n",
    "        (bo[1] == le and bo[2] == le and bo[3] == le) or # across the bottom\n",
    "        (bo[7] == le and bo[4] == le and bo[1] == le) or # down the left side\n",
    "        (bo[8] == le and bo[5] == le and bo[2] == le) or # down the middle\n",
    "        (bo[9] == le and bo[6] == le and bo[3] == le) or # down the right side\n",
    "        (bo[7] == le and bo[5] == le and bo[3] == le) or # diagonal\n",
    "        (bo[9] == le and bo[5] == le and bo[1] == le)) # diagonal\n"
   ]
  },
  {
   "cell_type": "code",
   "execution_count": 2,
   "metadata": {
    "collapsed": true
   },
   "outputs": [],
   "source": [
    "b1 = Board(board)\n",
    "b1.update()"
   ]
  },
  {
   "cell_type": "code",
   "execution_count": 4,
   "metadata": {
    "collapsed": true
   },
   "outputs": [],
   "source": [
    "b2 = copy.deepcopy(b1)"
   ]
  },
  {
   "cell_type": "code",
   "execution_count": 5,
   "metadata": {},
   "outputs": [
    {
     "data": {
      "text/plain": [
       "False"
      ]
     },
     "execution_count": 5,
     "metadata": {},
     "output_type": "execute_result"
    }
   ],
   "source": [
    "b2.isWin(\"X\")"
   ]
  },
  {
   "cell_type": "code",
   "execution_count": null,
   "metadata": {
    "collapsed": true
   },
   "outputs": [],
   "source": []
  }
 ],
 "metadata": {
  "kernelspec": {
   "display_name": "tensorflow3 (python3)",
   "language": "python",
   "name": "tensorflow3"
  },
  "language_info": {
   "codemirror_mode": {
    "name": "ipython",
    "version": 3
   },
   "file_extension": ".py",
   "mimetype": "text/x-python",
   "name": "python",
   "nbconvert_exporter": "python",
   "pygments_lexer": "ipython3",
   "version": "3.6.3"
  }
 },
 "nbformat": 4,
 "nbformat_minor": 2
}
