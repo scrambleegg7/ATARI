{
 "cells": [
  {
   "cell_type": "code",
   "execution_count": 46,
   "metadata": {},
   "outputs": [
    {
     "data": {
      "text/plain": [
       "<map at 0x104e79710>"
      ]
     },
     "execution_count": 46,
     "metadata": {},
     "output_type": "execute_result"
    }
   ],
   "source": [
    "#\n",
    "import random\n",
    "import math\n",
    "import hashlib\n",
    "\n",
    "import argparse\n",
    "import numpy as np\n",
    "\n",
    "\n",
    "from logging import getLogger, StreamHandler, DEBUG\n",
    "\n",
    "logger = getLogger(\"root\")\n",
    "handler = StreamHandler()\n",
    "handler.setLevel(DEBUG)\n",
    "logger.setLevel(DEBUG)\n",
    "logger.addHandler(handler)\n",
    "\n",
    "formatter = logging.Formatter('%(asctime)s - %(name)s - %(levelname)s - %(message)s')\n",
    "handler.setFormatter(formatter)\n",
    "\n",
    "logger.propagate = False\n",
    "\n"
   ]
  },
  {
   "cell_type": "code",
   "execution_count": 54,
   "metadata": {},
   "outputs": [
    {
     "name": "stderr",
     "output_type": "stream",
     "text": [
      "2018-02-02 11:25:32,096 - root - WARNING - test\n",
      "2018-02-02 11:25:32,096 - root - WARNING - test\n",
      "2018-02-02 11:25:32,100 - root - INFO - info test\n",
      "2018-02-02 11:25:32,100 - root - INFO - info test\n",
      "2018-02-02 11:25:32,104 - root - DEBUG - debug test\n",
      "2018-02-02 11:25:32,104 - root - DEBUG - debug test\n"
     ]
    }
   ],
   "source": [
    "\n",
    "logger.warning(\"test\")\n",
    "logger.info(\"info test\")\n",
    "logger.debug(\"debug test\")"
   ]
  },
  {
   "cell_type": "code",
   "execution_count": 52,
   "metadata": {
    "collapsed": true
   },
   "outputs": [],
   "source": [
    "def logTest():\n",
    "    logger = getLogger(\"logtest\")\n",
    "    logger.setLevel(DEBUG)\n",
    "    logger.warning(\"test\")\n",
    "    logger.info(\"info test\")\n",
    "    logger.debug(\"debug test\")    "
   ]
  },
  {
   "cell_type": "code",
   "execution_count": 53,
   "metadata": {},
   "outputs": [
    {
     "name": "stderr",
     "output_type": "stream",
     "text": [
      "WARNING:logtest:test\n",
      "INFO:logtest:info test\n",
      "DEBUG:logtest:debug test\n"
     ]
    }
   ],
   "source": [
    "logTest()"
   ]
  },
  {
   "cell_type": "code",
   "execution_count": 50,
   "metadata": {},
   "outputs": [
    {
     "data": {
      "text/plain": [
       "<map at 0x104e98908>"
      ]
     },
     "execution_count": 50,
     "metadata": {},
     "output_type": "execute_result"
    }
   ],
   "source": [
    "root = logger\n",
    "map(root.removeHandler, root.handlers[:])\n",
    "map(root.removeFilter, root.filters[:])\n"
   ]
  },
  {
   "cell_type": "code",
   "execution_count": 139,
   "metadata": {
    "collapsed": true
   },
   "outputs": [],
   "source": [
    "class Board(object):\n",
    "    def __init__(self):\n",
    "        self.board = np.array( [\" \"] * 10 )\n",
    "        \n",
    "    def update(self,move,piece):\n",
    "        self.board[move] = piece\n",
    "\n",
    "    def isAvailable(self,move):\n",
    "        s = self.isfilled()\n",
    "        if move in s:\n",
    "            return True\n",
    "        else:\n",
    "            return False\n",
    "        \n",
    "    def isfilled(self):\n",
    "        space = np.where(self.board == \" \")[0]\n",
    "        return space[1:]\n",
    "\n",
    "    def board_turn(self):\n",
    "        space = self.isfilled()\n",
    "        print(\"** available space ..\", space)\n",
    "        if len(space) > 0:\n",
    "            turn = 9- len(space)\n",
    "        if len(space) == 0:\n",
    "            turn = 9\n",
    "        return turn\n",
    "    \n",
    "    def __repr__(self):\n",
    "        print('   |   |')\n",
    "        print(' ' + self.board[7] + ' | ' + self.board[8] + ' | ' + self.board[9])\n",
    "        print('   |   |')\n",
    "        print('-----------')\n",
    "        print('   |   |')\n",
    "        print(' ' + self.board[4] + ' | ' + self.board[5] + ' | ' + self.board[6])\n",
    "        print('   |   |')\n",
    "        print('-----------')\n",
    "        print('   |   |')\n",
    "        print(' ' + self.board[1] + ' | ' + self.board[2] + ' | ' + self.board[3])\n",
    "        print('   |   |')\n",
    "\n",
    "        space = self.isfilled()\n",
    "        print(\"** available space ..\", space)\n",
    "        if len(space) > 0:\n",
    "            self.turn = 9- len(space)\n",
    "        if len(space) == 0:\n",
    "            self.turn = 9\n",
    "        s=\"CurrentState ...: turn %d\"%(self.turn)\n",
    "        return s\n",
    "            \n",
    "    def isWin(self,le):\n",
    "        # bo - input board style\n",
    "        # le - letter on board from player's piece\n",
    "        bo = self.board.copy()\n",
    "        return ((bo[7] == le and bo[8] == le and bo[9] == le) or # across the top\n",
    "        (bo[4] == le and bo[5] == le and bo[6] == le) or # across the middle\n",
    "        (bo[1] == le and bo[2] == le and bo[3] == le) or # across the bottom\n",
    "        (bo[7] == le and bo[4] == le and bo[1] == le) or # down the left side\n",
    "        (bo[8] == le and bo[5] == le and bo[2] == le) or # down the middle\n",
    "        (bo[9] == le and bo[6] == le and bo[3] == le) or # down the right side\n",
    "        (bo[7] == le and bo[5] == le and bo[3] == le) or # diagonal\n",
    "        (bo[9] == le and bo[5] == le and bo[1] == le)) # diagonal\n",
    "        \n"
   ]
  },
  {
   "cell_type": "code",
   "execution_count": 188,
   "metadata": {
    "collapsed": true
   },
   "outputs": [],
   "source": [
    "class GameState2():\n",
    "\n",
    "    NUM_TURNS = 10\n",
    "    GOAL = 0\n",
    "    PIECE=[\"O\",\"X\"]\n",
    "\n",
    "    num_moves=10\n",
    "\n",
    "    def __init__(self, board=Board(), turn=0, next_turn=0,test=False):\n",
    "        self.board=board\n",
    "        self.turn=turn\n",
    "        self.next_turn=next_turn\n",
    "        \n",
    "        if test:\n",
    "            print(self.board)\n",
    "            print(\"turn : next_turn\",turn,next_turn)\n",
    "\n",
    "    def first_turn(self):\n",
    "        self.first_turn = np.random.choice([0,1])\n",
    "        if self.first_turn:\n",
    "            print(\"** Human first..\")\n",
    "            self.next_turn = 0\n",
    "        else:\n",
    "            print(\"* AI first..\")\n",
    "            self.next_turn = 1\n",
    "\n",
    "    def next_state(self):\n",
    "\n",
    "        sp = self.board.isfilled()\n",
    "        move = np.random.choice(sp)\n",
    "        if self.next_turn:\n",
    "            print(\"AI turn...\")\n",
    "            self.board.update(move,self.PIECE[0])\n",
    "            self.next_turn = 0\n",
    "        else:\n",
    "            print(\"Human turn...\")\n",
    "            self.board.update(move,self.PIECE[1])\n",
    "            self.next_turn = 1\n",
    "            \n",
    "        turn = self.board.board_turn()\n",
    "        next=GameState2(board= self.board,turn= turn, next_turn = self.next_turn, test=True)\n",
    "        return next\n",
    "\n",
    "    def terminal(self):\n",
    "        if self.turn == 9:\n",
    "            return True\n",
    "        \n",
    "        ai_piece = self.PIECE[0]\n",
    "        hu_piece = self.PIECE[1]\n",
    "        if self.board.isWin(ai_piece) or self.board.isWin(hu_piece):\n",
    "            return True\n",
    "        \n",
    "        return False\n",
    "\n",
    "    def reward(self):\n",
    "        #r = 1.0-(abs(self.value-self.GOAL)/self.MAX_VALUE)\n",
    "        ai_piece = self.PIECE[0]\n",
    "        hu_piece = self.PIECE[1]\n",
    "\n",
    "        if self.board.isWin(ai_piece):\n",
    "            return 10\n",
    "        elif self.board.isWin(hu_piece):\n",
    "            return -10\n",
    "        \n",
    "        return 0\n",
    "\n",
    "    def __hash__(self):\n",
    "        return int(hashlib.md5( str( self.board.board) ).hexdigest(),16)\n",
    "\n",
    "    def __eq__(self,other):\n",
    "        if hash(self)==hash(other):\n",
    "            return True\n",
    "        return False\n",
    "\n",
    "    def __repr__(self):\n",
    "        s=\"Turn: %d; Next Turn: %s\"%(self.turn,self.next_turn)\n",
    "        return s\n"
   ]
  },
  {
   "cell_type": "code",
   "execution_count": 200,
   "metadata": {
    "collapsed": true
   },
   "outputs": [],
   "source": [
    "def TREEPOLICY(node):\n",
    "    #a hack to force 'exploitation' in a game where there are many options, and you may never/not want to fully expand first\n",
    "    while node.state.terminal()==False:\n",
    "        if len(node.children)==0:\n",
    "            return EXPAND(node)\n",
    "        elif random.uniform(0,1)<.5:\n",
    "            node=BESTCHILD(node,SCALAR)\n",
    "        else:\n",
    "            if node.fully_expanded()==False:\n",
    "                return EXPAND(node)\n",
    "            else:\n",
    "                node=BESTCHILD(node,SCALAR)\n",
    "    return node\n",
    "\n",
    "def EXPAND(node):\n",
    "    tried_children=[c.state for c in node.children]\n",
    "    new_state=node.state.next_state()\n",
    "    while new_state in tried_children:\n",
    "        new_state=node.state.next_state()\n",
    "    node.add_child(new_state)\n",
    "    return node.children[-1]\n",
    "\n",
    "#current this uses the most vanilla MCTS formula it is worth experimenting with THRESHOLD ASCENT (TAGS)\n",
    "def BESTCHILD(node,scalar):\n",
    "    bestscore=0.0\n",
    "    bestchildren=[]\n",
    "    for c in node.children:\n",
    "        exploit=c.reward/c.visits\n",
    "        explore=math.sqrt(2.0*math.log(node.visits)/float(c.visits))\n",
    "        score=exploit+scalar*explore\n",
    "        if score==bestscore:\n",
    "            bestchildren.append(c)\n",
    "        if score>bestscore:\n",
    "            bestchildren=[c]\n",
    "            bestscore=score\n",
    "    if len(bestchildren)==0:\n",
    "        logger.warn(\"OOPS: no best child found, probably fatal\")\n",
    "    return random.choice(bestchildren)\n",
    "\n",
    "def DEFAULTPOLICY(state):\n",
    "    while state.terminal()==False:\n",
    "        state=state.next_state()\n",
    "    return state.reward()\n",
    "\n",
    "def BACKUP(node,reward):\n",
    "    while node!=None:\n",
    "        node.visits+=1\n",
    "        node.reward+=reward\n",
    "        node=node.parent\n",
    "    return\n"
   ]
  },
  {
   "cell_type": "code",
   "execution_count": 161,
   "metadata": {
    "collapsed": true
   },
   "outputs": [],
   "source": [
    "class Node():\n",
    "\n",
    "    def __init__(self, state, parent=None):\n",
    "        self.visits=1\n",
    "        self.reward=0.0\n",
    "        self.state=state\n",
    "        self.children=[]\n",
    "        self.parent=parent\n",
    "\n",
    "    def add_child(self,child_state):\n",
    "        child=Node(child_state,self)\n",
    "        self.children.append(child)\n",
    "    def update(self,reward):\n",
    "        self.reward+=reward\n",
    "        self.visits+=1\n",
    "    def fully_expanded(self):\n",
    "        if len(self.children)==self.state.num_moves:\n",
    "            return True\n",
    "        return False\n",
    "    def __repr__(self):\n",
    "        s=\"Node; children: %d; visits: %d; reward: %f\"%(len(self.children),self.visits,self.reward)\n",
    "        return s\n",
    "\n"
   ]
  },
  {
   "cell_type": "code",
   "execution_count": 189,
   "metadata": {},
   "outputs": [
    {
     "name": "stdout",
     "output_type": "stream",
     "text": [
      "   |   |\n",
      "   |   |  \n",
      "   |   |\n",
      "-----------\n",
      "   |   |\n",
      "   |   |  \n",
      "   |   |\n",
      "-----------\n",
      "   |   |\n",
      "   |   |  \n",
      "   |   |\n",
      "** available space .. [1 2 3 4 5 6 7 8 9]\n",
      "CurrentState ...: turn 0\n",
      "turn : next_turn 0 0\n"
     ]
    }
   ],
   "source": [
    "root = Node(GameState2(board=Board(),turn=0, next_turn=0,test=True))"
   ]
  },
  {
   "cell_type": "code",
   "execution_count": 190,
   "metadata": {},
   "outputs": [
    {
     "name": "stdout",
     "output_type": "stream",
     "text": [
      "Human turn...\n",
      "** available space .. [1 2 3 5 6 7 8 9]\n",
      "   |   |\n",
      "   |   |  \n",
      "   |   |\n",
      "-----------\n",
      "   |   |\n",
      " X |   |  \n",
      "   |   |\n",
      "-----------\n",
      "   |   |\n",
      "   |   |  \n",
      "   |   |\n",
      "** available space .. [1 2 3 5 6 7 8 9]\n",
      "CurrentState ...: turn 1\n",
      "turn : next_turn 1 1\n"
     ]
    }
   ],
   "source": [
    "tree_node = TREEPOLICY(root)"
   ]
  },
  {
   "cell_type": "code",
   "execution_count": 191,
   "metadata": {},
   "outputs": [
    {
     "name": "stdout",
     "output_type": "stream",
     "text": [
      "AI turn...\n",
      "** available space .. [1 2 3 5 6 7 9]\n",
      "   |   |\n",
      "   | O |  \n",
      "   |   |\n",
      "-----------\n",
      "   |   |\n",
      " X |   |  \n",
      "   |   |\n",
      "-----------\n",
      "   |   |\n",
      "   |   |  \n",
      "   |   |\n",
      "** available space .. [1 2 3 5 6 7 9]\n",
      "CurrentState ...: turn 2\n",
      "turn : next_turn 2 0\n",
      "Human turn...\n",
      "** available space .. [2 3 5 6 7 9]\n",
      "   |   |\n",
      "   | O |  \n",
      "   |   |\n",
      "-----------\n",
      "   |   |\n",
      " X |   |  \n",
      "   |   |\n",
      "-----------\n",
      "   |   |\n",
      " X |   |  \n",
      "   |   |\n",
      "** available space .. [2 3 5 6 7 9]\n",
      "CurrentState ...: turn 3\n",
      "turn : next_turn 3 1\n",
      "AI turn...\n",
      "** available space .. [2 3 6 7 9]\n",
      "   |   |\n",
      "   | O |  \n",
      "   |   |\n",
      "-----------\n",
      "   |   |\n",
      " X | O |  \n",
      "   |   |\n",
      "-----------\n",
      "   |   |\n",
      " X |   |  \n",
      "   |   |\n",
      "** available space .. [2 3 6 7 9]\n",
      "CurrentState ...: turn 4\n",
      "turn : next_turn 4 0\n",
      "Human turn...\n",
      "** available space .. [3 6 7 9]\n",
      "   |   |\n",
      "   | O |  \n",
      "   |   |\n",
      "-----------\n",
      "   |   |\n",
      " X | O |  \n",
      "   |   |\n",
      "-----------\n",
      "   |   |\n",
      " X | X |  \n",
      "   |   |\n",
      "** available space .. [3 6 7 9]\n",
      "CurrentState ...: turn 5\n",
      "turn : next_turn 5 1\n",
      "AI turn...\n",
      "** available space .. [3 7 9]\n",
      "   |   |\n",
      "   | O |  \n",
      "   |   |\n",
      "-----------\n",
      "   |   |\n",
      " X | O | O\n",
      "   |   |\n",
      "-----------\n",
      "   |   |\n",
      " X | X |  \n",
      "   |   |\n",
      "** available space .. [3 7 9]\n",
      "CurrentState ...: turn 6\n",
      "turn : next_turn 6 0\n",
      "Human turn...\n",
      "** available space .. [3 9]\n",
      "   |   |\n",
      " X | O |  \n",
      "   |   |\n",
      "-----------\n",
      "   |   |\n",
      " X | O | O\n",
      "   |   |\n",
      "-----------\n",
      "   |   |\n",
      " X | X |  \n",
      "   |   |\n",
      "** available space .. [3 9]\n",
      "CurrentState ...: turn 7\n",
      "turn : next_turn 7 1\n"
     ]
    },
    {
     "data": {
      "text/plain": [
       "-10"
      ]
     },
     "execution_count": 191,
     "metadata": {},
     "output_type": "execute_result"
    }
   ],
   "source": [
    "DEFAULTPOLICY( tree_node.state )"
   ]
  },
  {
   "cell_type": "code",
   "execution_count": 192,
   "metadata": {},
   "outputs": [
    {
     "data": {
      "text/plain": [
       "Node; children: 0; visits: 1; reward: 0.000000"
      ]
     },
     "execution_count": 192,
     "metadata": {},
     "output_type": "execute_result"
    }
   ],
   "source": [
    "tree_node"
   ]
  },
  {
   "cell_type": "code",
   "execution_count": 193,
   "metadata": {
    "collapsed": true
   },
   "outputs": [],
   "source": [
    "BACKUP(tree_node,-10)"
   ]
  },
  {
   "cell_type": "code",
   "execution_count": 194,
   "metadata": {},
   "outputs": [
    {
     "data": {
      "text/plain": [
       "Node; children: 0; visits: 2; reward: -10.000000"
      ]
     },
     "execution_count": 194,
     "metadata": {},
     "output_type": "execute_result"
    }
   ],
   "source": [
    "tree_node"
   ]
  },
  {
   "cell_type": "code",
   "execution_count": 196,
   "metadata": {},
   "outputs": [
    {
     "data": {
      "text/plain": [
       "1"
      ]
     },
     "execution_count": 196,
     "metadata": {},
     "output_type": "execute_result"
    }
   ],
   "source": [
    "len(root.children)"
   ]
  },
  {
   "cell_type": "code",
   "execution_count": 197,
   "metadata": {},
   "outputs": [
    {
     "data": {
      "text/plain": [
       "-10.0"
      ]
     },
     "execution_count": 197,
     "metadata": {},
     "output_type": "execute_result"
    }
   ],
   "source": [
    "root.children[0].reward"
   ]
  },
  {
   "cell_type": "code",
   "execution_count": 201,
   "metadata": {},
   "outputs": [
    {
     "name": "stderr",
     "output_type": "stream",
     "text": [
      "/Users/donchan/anaconda3/envs/tensorflow3/lib/python3.6/site-packages/ipykernel_launcher.py:37: DeprecationWarning: The 'warn' method is deprecated, use 'warning' instead\n",
      "WARNING:MyLogger:OOPS: no best child found, probably fatal\n"
     ]
    },
    {
     "ename": "IndexError",
     "evalue": "Cannot choose from an empty sequence",
     "output_type": "error",
     "traceback": [
      "\u001b[0;31m---------------------------------------------------------------------------\u001b[0m",
      "\u001b[0;31mIndexError\u001b[0m                                Traceback (most recent call last)",
      "\u001b[0;32m<ipython-input-201-a4471b63e856>\u001b[0m in \u001b[0;36m<module>\u001b[0;34m()\u001b[0m\n\u001b[0;32m----> 1\u001b[0;31m \u001b[0mBESTCHILD\u001b[0m\u001b[0;34m(\u001b[0m\u001b[0mroot\u001b[0m\u001b[0;34m,\u001b[0m\u001b[0;36m0\u001b[0m\u001b[0;34m)\u001b[0m\u001b[0;34m\u001b[0m\u001b[0m\n\u001b[0m",
      "\u001b[0;32m<ipython-input-200-64ac19ca7ab9>\u001b[0m in \u001b[0;36mBESTCHILD\u001b[0;34m(node, scalar)\u001b[0m\n\u001b[1;32m     36\u001b[0m     \u001b[0;32mif\u001b[0m \u001b[0mlen\u001b[0m\u001b[0;34m(\u001b[0m\u001b[0mbestchildren\u001b[0m\u001b[0;34m)\u001b[0m\u001b[0;34m==\u001b[0m\u001b[0;36m0\u001b[0m\u001b[0;34m:\u001b[0m\u001b[0;34m\u001b[0m\u001b[0m\n\u001b[1;32m     37\u001b[0m         \u001b[0mlogger\u001b[0m\u001b[0;34m.\u001b[0m\u001b[0mwarn\u001b[0m\u001b[0;34m(\u001b[0m\u001b[0;34m\"OOPS: no best child found, probably fatal\"\u001b[0m\u001b[0;34m)\u001b[0m\u001b[0;34m\u001b[0m\u001b[0m\n\u001b[0;32m---> 38\u001b[0;31m     \u001b[0;32mreturn\u001b[0m \u001b[0mrandom\u001b[0m\u001b[0;34m.\u001b[0m\u001b[0mchoice\u001b[0m\u001b[0;34m(\u001b[0m\u001b[0mbestchildren\u001b[0m\u001b[0;34m)\u001b[0m\u001b[0;34m\u001b[0m\u001b[0m\n\u001b[0m\u001b[1;32m     39\u001b[0m \u001b[0;34m\u001b[0m\u001b[0m\n\u001b[1;32m     40\u001b[0m \u001b[0;32mdef\u001b[0m \u001b[0mDEFAULTPOLICY\u001b[0m\u001b[0;34m(\u001b[0m\u001b[0mstate\u001b[0m\u001b[0;34m)\u001b[0m\u001b[0;34m:\u001b[0m\u001b[0;34m\u001b[0m\u001b[0m\n",
      "\u001b[0;32m~/anaconda3/envs/tensorflow3/lib/python3.6/random.py\u001b[0m in \u001b[0;36mchoice\u001b[0;34m(self, seq)\u001b[0m\n\u001b[1;32m    255\u001b[0m             \u001b[0mi\u001b[0m \u001b[0;34m=\u001b[0m \u001b[0mself\u001b[0m\u001b[0;34m.\u001b[0m\u001b[0m_randbelow\u001b[0m\u001b[0;34m(\u001b[0m\u001b[0mlen\u001b[0m\u001b[0;34m(\u001b[0m\u001b[0mseq\u001b[0m\u001b[0;34m)\u001b[0m\u001b[0;34m)\u001b[0m\u001b[0;34m\u001b[0m\u001b[0m\n\u001b[1;32m    256\u001b[0m         \u001b[0;32mexcept\u001b[0m \u001b[0mValueError\u001b[0m\u001b[0;34m:\u001b[0m\u001b[0;34m\u001b[0m\u001b[0m\n\u001b[0;32m--> 257\u001b[0;31m             \u001b[0;32mraise\u001b[0m \u001b[0mIndexError\u001b[0m\u001b[0;34m(\u001b[0m\u001b[0;34m'Cannot choose from an empty sequence'\u001b[0m\u001b[0;34m)\u001b[0m \u001b[0;32mfrom\u001b[0m \u001b[0;32mNone\u001b[0m\u001b[0;34m\u001b[0m\u001b[0m\n\u001b[0m\u001b[1;32m    258\u001b[0m         \u001b[0;32mreturn\u001b[0m \u001b[0mseq\u001b[0m\u001b[0;34m[\u001b[0m\u001b[0mi\u001b[0m\u001b[0;34m]\u001b[0m\u001b[0;34m\u001b[0m\u001b[0m\n\u001b[1;32m    259\u001b[0m \u001b[0;34m\u001b[0m\u001b[0m\n",
      "\u001b[0;31mIndexError\u001b[0m: Cannot choose from an empty sequence"
     ]
    }
   ],
   "source": [
    "BESTCHILD(root,0)"
   ]
  },
  {
   "cell_type": "code",
   "execution_count": null,
   "metadata": {
    "collapsed": true
   },
   "outputs": [],
   "source": []
  }
 ],
 "metadata": {
  "kernelspec": {
   "display_name": "tensorflow3 (python3)",
   "language": "python",
   "name": "tensorflow3"
  },
  "language_info": {
   "codemirror_mode": {
    "name": "ipython",
    "version": 3
   },
   "file_extension": ".py",
   "mimetype": "text/x-python",
   "name": "python",
   "nbconvert_exporter": "python",
   "pygments_lexer": "ipython3",
   "version": "3.6.3"
  }
 },
 "nbformat": 4,
 "nbformat_minor": 2
}
