{
 "cells": [
  {
   "cell_type": "code",
   "execution_count": 2,
   "metadata": {
    "collapsed": false
   },
   "outputs": [],
   "source": [
    "import gym\n",
    "import numpy as np\n",
    "import pandas as pd\n",
    "\n",
    "# In[2]\n",
    "env = gym.make('MountainCar-v0')\n",
    "s = env.reset()\n",
    "#env.render()\n",
    "\n",
    "# In[3]\n",
    "pos_bins = pd.cut([-1.2,0.6],bins=99,retbins=True)[1]\n",
    "vel_bins = pd.cut([-.07,.07],bins=99,retbins=True)[1]\n"
   ]
  },
  {
   "cell_type": "code",
   "execution_count": 4,
   "metadata": {
    "collapsed": false
   },
   "outputs": [
    {
     "data": {
      "text/plain": [
       "(100,)"
      ]
     },
     "execution_count": 4,
     "metadata": {},
     "output_type": "execute_result"
    }
   ],
   "source": [
    "pos_bins.shape"
   ]
  },
  {
   "cell_type": "code",
   "execution_count": 5,
   "metadata": {
    "collapsed": true
   },
   "outputs": [],
   "source": [
    "allStates= []\n",
    "for ii in pos_bins:\n",
    "    for jj in vel_bins:\n",
    "      allStates.append(np.array([ii,jj]))\n",
    "allStates = np.array(allStates)\n"
   ]
  },
  {
   "cell_type": "code",
   "execution_count": 7,
   "metadata": {
    "collapsed": false
   },
   "outputs": [
    {
     "data": {
      "text/plain": [
       "array([[-1.2018    , -0.07014   ],\n",
       "       [-1.2018    , -0.06858586],\n",
       "       [-1.2018    , -0.06717172],\n",
       "       [-1.2018    , -0.06575758],\n",
       "       [-1.2018    , -0.06434343],\n",
       "       [-1.2018    , -0.06292929],\n",
       "       [-1.2018    , -0.06151515],\n",
       "       [-1.2018    , -0.06010101],\n",
       "       [-1.2018    , -0.05868687],\n",
       "       [-1.2018    , -0.05727273]])"
      ]
     },
     "execution_count": 7,
     "metadata": {},
     "output_type": "execute_result"
    }
   ],
   "source": [
    "allStates[:10]"
   ]
  },
  {
   "cell_type": "code",
   "execution_count": 9,
   "metadata": {
    "collapsed": false
   },
   "outputs": [],
   "source": [
    "def value_to_state(x):\n",
    "    global allStates\n",
    "    global pos_bins\n",
    "    global vel_bins\n",
    "    xpos=np.digitize(x[0],pos_bins)\n",
    "    xvel=np.digitize(x[1],vel_bins)\n",
    "    stateValue = np.array([pos_bins[xpos],vel_bins[xvel]])\n",
    "    state = np.where((allStates==stateValue).all(axis=1))[0][0]\n",
    "    return state"
   ]
  },
  {
   "cell_type": "code",
   "execution_count": 10,
   "metadata": {
    "collapsed": true
   },
   "outputs": [],
   "source": [
    "# In[4] Q Table\n",
    "Q = np.zeros([len(allStates),\n",
    "              env.action_space.n])\n",
    "lr =0.8\n",
    "y =0.95\n",
    "num_episodes= 30000\n",
    "rList = []"
   ]
  },
  {
   "cell_type": "code",
   "execution_count": 12,
   "metadata": {
    "collapsed": false
   },
   "outputs": [
    {
     "data": {
      "text/plain": [
       "(10000, 3)"
      ]
     },
     "execution_count": 12,
     "metadata": {},
     "output_type": "execute_result"
    }
   ],
   "source": [
    "Q.shape"
   ]
  },
  {
   "cell_type": "code",
   "execution_count": 13,
   "metadata": {
    "collapsed": true
   },
   "outputs": [],
   "source": [
    "s_raw = env.reset()\n",
    "s = value_to_state(s_raw)"
   ]
  },
  {
   "cell_type": "code",
   "execution_count": 23,
   "metadata": {
    "collapsed": false
   },
   "outputs": [
    {
     "data": {
      "text/plain": [
       "(-0.4944747894056396, 0.0)"
      ]
     },
     "execution_count": 23,
     "metadata": {},
     "output_type": "execute_result"
    }
   ],
   "source": [
    "s_raw[0],s_raw[1]"
   ]
  },
  {
   "cell_type": "code",
   "execution_count": 30,
   "metadata": {
    "collapsed": false
   },
   "outputs": [
    {
     "name": "stdout",
     "output_type": "stream",
     "text": [
      "[array(39), array(50)]\n"
     ]
    },
    {
     "data": {
      "text/plain": [
       "5039"
      ]
     },
     "execution_count": 30,
     "metadata": {},
     "output_type": "execute_result"
    }
   ],
   "source": [
    "digitize_state(s_raw)"
   ]
  },
  {
   "cell_type": "code",
   "execution_count": 26,
   "metadata": {
    "collapsed": false
   },
   "outputs": [
    {
     "data": {
      "text/plain": [
       "(array(39), array(50))"
      ]
     },
     "execution_count": 26,
     "metadata": {},
     "output_type": "execute_result"
    }
   ],
   "source": [
    "np.digitize(s_raw[0],pos_bins), np.digitize(s_raw[1],vel_bins)"
   ]
  },
  {
   "cell_type": "code",
   "execution_count": null,
   "metadata": {
    "collapsed": true
   },
   "outputs": [],
   "source": []
  },
  {
   "cell_type": "code",
   "execution_count": null,
   "metadata": {
    "collapsed": true
   },
   "outputs": [],
   "source": []
  },
  {
   "cell_type": "code",
   "execution_count": null,
   "metadata": {
    "collapsed": true
   },
   "outputs": [],
   "source": []
  },
  {
   "cell_type": "code",
   "execution_count": null,
   "metadata": {
    "collapsed": true
   },
   "outputs": [],
   "source": []
  },
  {
   "cell_type": "code",
   "execution_count": 3,
   "metadata": {
    "collapsed": false
   },
   "outputs": [
    {
     "name": "stdout",
     "output_type": "stream",
     "text": [
      "[-0.58912799  0.        ]\n"
     ]
    }
   ],
   "source": [
    "observation = env.reset()\n",
    "print(observation)"
   ]
  },
  {
   "cell_type": "code",
   "execution_count": 7,
   "metadata": {
    "collapsed": false
   },
   "outputs": [],
   "source": [
    "a = env.action_space.sample()\n",
    "observation,reward,done,_ = env.step(a)"
   ]
  },
  {
   "cell_type": "code",
   "execution_count": 8,
   "metadata": {
    "collapsed": false
   },
   "outputs": [
    {
     "data": {
      "text/plain": [
       "(-1.0, array([ -5.89639679e-01,  -5.11690400e-04]))"
      ]
     },
     "execution_count": 8,
     "metadata": {},
     "output_type": "execute_result"
    }
   ],
   "source": [
    "reward,observation"
   ]
  },
  {
   "cell_type": "code",
   "execution_count": 4,
   "metadata": {
    "collapsed": false
   },
   "outputs": [
    {
     "data": {
      "text/plain": [
       "(array([ 0.6 ,  0.07]), array([-1.2 , -0.07]))"
      ]
     },
     "execution_count": 4,
     "metadata": {},
     "output_type": "execute_result"
    }
   ],
   "source": [
    "env.observation_space.high, env.observation_space.low"
   ]
  },
  {
   "cell_type": "code",
   "execution_count": 29,
   "metadata": {
    "collapsed": false
   },
   "outputs": [],
   "source": [
    "def bins(clip_min, clip_max, num):\n",
    "    return np.linspace(clip_min, clip_max, num + 1)[1:-1]\n",
    "\n",
    "def digitize_state(observation):\n",
    "    # change status to 6 x 6 indices = [0 35]\n",
    "    # then search matrix 256 x 2 actions..\n",
    "    car_pos, car_velocity = observation\n",
    "    digitized = [np.digitize(car_pos, bins=bins(-1.2, 0.6 , 100)),\n",
    "                 np.digitize(car_velocity, bins=bins(-0.07, 0.07, 100))]\n",
    "    print(digitized)\n",
    "    # [0  15]\n",
    "    return sum([x * (100 ** i) for i, x in enumerate(digitized)])\n",
    "\n"
   ]
  },
  {
   "cell_type": "code",
   "execution_count": 10,
   "metadata": {
    "collapsed": true
   },
   "outputs": [],
   "source": [
    "observation = env.reset()"
   ]
  },
  {
   "cell_type": "code",
   "execution_count": 11,
   "metadata": {
    "collapsed": false
   },
   "outputs": [],
   "source": [
    "state = digitize_state(observation)"
   ]
  },
  {
   "cell_type": "code",
   "execution_count": 12,
   "metadata": {
    "collapsed": true
   },
   "outputs": [],
   "source": [
    "q_table = np.random.uniform(low=-1, high=1, size=(4 ** 2, env.action_space.n))"
   ]
  },
  {
   "cell_type": "code",
   "execution_count": 14,
   "metadata": {
    "collapsed": false
   },
   "outputs": [
    {
     "data": {
      "text/plain": [
       "array([ 0.64198646, -0.80579745,  0.67588981])"
      ]
     },
     "execution_count": 14,
     "metadata": {},
     "output_type": "execute_result"
    }
   ],
   "source": [
    "q_table[state]"
   ]
  },
  {
   "cell_type": "code",
   "execution_count": 15,
   "metadata": {
    "collapsed": false
   },
   "outputs": [
    {
     "data": {
      "text/plain": [
       "2"
      ]
     },
     "execution_count": 15,
     "metadata": {},
     "output_type": "execute_result"
    }
   ],
   "source": [
    "np.argmax(q_table[state])"
   ]
  },
  {
   "cell_type": "code",
   "execution_count": null,
   "metadata": {
    "collapsed": true
   },
   "outputs": [],
   "source": []
  },
  {
   "cell_type": "code",
   "execution_count": null,
   "metadata": {
    "collapsed": true
   },
   "outputs": [],
   "source": []
  },
  {
   "cell_type": "code",
   "execution_count": null,
   "metadata": {
    "collapsed": true
   },
   "outputs": [],
   "source": []
  },
  {
   "cell_type": "code",
   "execution_count": 11,
   "metadata": {
    "collapsed": false
   },
   "outputs": [
    {
     "data": {
      "text/plain": [
       "3"
      ]
     },
     "execution_count": 11,
     "metadata": {},
     "output_type": "execute_result"
    }
   ],
   "source": [
    "def digitize_state(observation):\n",
    "    # change status to 4 x 4 x 4 x 4 indices = [0 255]\n",
    "    # then search matrix 256 x 2 actions..\n",
    "    cart_pos, cart_v, pole_angle, pole_v = observation\n",
    "    digitized = [np.digitize(cart_pos, bins=bins(-2.4, 2.4, 4)),\n",
    "                 np.digitize(cart_v, bins=bins(-3.0, 3.0, 4)),\n",
    "                 np.digitize(pole_angle, bins=bins(-0.5, 0.5, 4)),\n",
    "                 np.digitize(pole_v, bins=bins(-2.0, 2.0, 4))]\n",
    "    # [0  255]\n",
    "    return sum([x * (4 ** i) for i, x in enumerate(digitized)])\n",
    "\n"
   ]
  },
  {
   "cell_type": "code",
   "execution_count": 21,
   "metadata": {
    "collapsed": true
   },
   "outputs": [],
   "source": [
    "def gen_random_policy():\n",
    "    return (np.random.uniform(-1,1, size=4), np.random.uniform(-1,1))"
   ]
  },
  {
   "cell_type": "code",
   "execution_count": null,
   "metadata": {
    "collapsed": true
   },
   "outputs": [],
   "source": []
  },
  {
   "cell_type": "code",
   "execution_count": 23,
   "metadata": {
    "collapsed": false
   },
   "outputs": [
    {
     "ename": "AttributeError",
     "evalue": "'tuple' object has no attribute 'shape'",
     "output_type": "error",
     "traceback": [
      "\u001b[0;31m---------------------------------------------------------------------------\u001b[0m",
      "\u001b[0;31mAttributeError\u001b[0m                            Traceback (most recent call last)",
      "\u001b[0;32m<ipython-input-23-f5adb60fc939>\u001b[0m in \u001b[0;36m<module>\u001b[0;34m()\u001b[0m\n\u001b[0;32m----> 1\u001b[0;31m \u001b[0mgen_random_policy\u001b[0m\u001b[0;34m(\u001b[0m\u001b[0;34m)\u001b[0m\u001b[0;34m.\u001b[0m\u001b[0mshape\u001b[0m\u001b[0;34m\u001b[0m\u001b[0m\n\u001b[0m",
      "\u001b[0;31mAttributeError\u001b[0m: 'tuple' object has no attribute 'shape'"
     ]
    }
   ],
   "source": [
    "gen_random_policy()"
   ]
  },
  {
   "cell_type": "code",
   "execution_count": null,
   "metadata": {
    "collapsed": true
   },
   "outputs": [],
   "source": []
  },
  {
   "cell_type": "code",
   "execution_count": null,
   "metadata": {
    "collapsed": true
   },
   "outputs": [],
   "source": []
  },
  {
   "cell_type": "code",
   "execution_count": null,
   "metadata": {
    "collapsed": true
   },
   "outputs": [],
   "source": []
  },
  {
   "cell_type": "code",
   "execution_count": null,
   "metadata": {
    "collapsed": true
   },
   "outputs": [],
   "source": []
  },
  {
   "cell_type": "code",
   "execution_count": null,
   "metadata": {
    "collapsed": true
   },
   "outputs": [],
   "source": []
  },
  {
   "cell_type": "code",
   "execution_count": null,
   "metadata": {
    "collapsed": true
   },
   "outputs": [],
   "source": []
  },
  {
   "cell_type": "code",
   "execution_count": null,
   "metadata": {
    "collapsed": true
   },
   "outputs": [],
   "source": []
  },
  {
   "cell_type": "code",
   "execution_count": null,
   "metadata": {
    "collapsed": true
   },
   "outputs": [],
   "source": []
  },
  {
   "cell_type": "code",
   "execution_count": null,
   "metadata": {
    "collapsed": true
   },
   "outputs": [],
   "source": []
  },
  {
   "cell_type": "code",
   "execution_count": null,
   "metadata": {
    "collapsed": true
   },
   "outputs": [],
   "source": []
  },
  {
   "cell_type": "code",
   "execution_count": 4,
   "metadata": {
    "collapsed": false
   },
   "outputs": [
    {
     "data": {
      "text/plain": [
       "array([3, 0, 0, 1, 0, 0, 2, 3, 1, 3, 3, 2, 2, 3, 2, 1])"
      ]
     },
     "execution_count": 4,
     "metadata": {},
     "output_type": "execute_result"
    }
   ],
   "source": [
    "np.random.choice(4,size=(16))"
   ]
  },
  {
   "cell_type": "code",
   "execution_count": 3,
   "metadata": {
    "collapsed": true
   },
   "outputs": [],
   "source": [
    "import tensorflow as tf"
   ]
  },
  {
   "cell_type": "code",
   "execution_count": 4,
   "metadata": {
    "collapsed": false
   },
   "outputs": [
    {
     "name": "stdout",
     "output_type": "stream",
     "text": [
      "[-0.02899742  0.03581846 -0.01303823  0.00349526]\n"
     ]
    }
   ],
   "source": [
    "observation = env.reset()\n",
    "#observation = np.expand_dims(observation,axis=0)\n",
    "print(observation)\n"
   ]
  },
  {
   "cell_type": "code",
   "execution_count": 17,
   "metadata": {
    "collapsed": false
   },
   "outputs": [
    {
     "name": "stdout",
     "output_type": "stream",
     "text": [
      "[ -5.89639679e-01  -5.11690400e-04]\n"
     ]
    }
   ],
   "source": [
    "for i in range(100):\n",
    "    #env.render()\n",
    "    observations,reward, done, _ = env.step( 2 )\n",
    "    #print(observations,done)\n",
    "    if done:\n",
    "        break\n",
    "print(observation)\n",
    "env.render()"
   ]
  },
  {
   "cell_type": "code",
   "execution_count": 17,
   "metadata": {
    "collapsed": true
   },
   "outputs": [],
   "source": [
    "def policy_gradient():\n",
    "    with tf.variable_scope(\"mypolicy\",reuse=False):\n",
    "        v = tf.get_variable(\"policy_parameters\",[4,2])\n",
    "        # state\n",
    "        state = tf.placeholder(\"float\",[None,4])\n",
    "        # actions -1 or 1\n",
    "        actions = tf.placeholder(\"float\",[None,2])\n",
    "        linear = tf.matmul(state,params)\n",
    "        probabilities = tf.nn.softmax(linear)\n",
    "        good_probabilities = tf.reduce_sum(tf.mul(probabilities, actions),reduction_indices=[1])\n",
    "        # maximize the log probability\n",
    "        log_probabilities = tf.log(good_probabilities)\n",
    "        loss = -tf.reduce_sum(log_probabilities)\n",
    "        optimizer = tf.train.AdamOptimizer(0.01).minimize(loss)"
   ]
  },
  {
   "cell_type": "code",
   "execution_count": 19,
   "metadata": {
    "collapsed": true
   },
   "outputs": [],
   "source": [
    "def value_gradient():  \n",
    "    # sess.run(calculated) to calculate value of state\n",
    "    with tf.variable_scope(\"mypolicy_grad\",reuse=False):\n",
    "        state = tf.placeholder(\"float\",[None,4])\n",
    "        w1 = tf.get_variable(\"w1\",[4,10])\n",
    "        b1 = tf.get_variable(\"b1\",[10])\n",
    "        h1 = tf.nn.relu(tf.matmul(state,w1) + b1)\n",
    "        w2 = tf.get_variable(\"w2\",[10,1])\n",
    "        b2 = tf.get_variable(\"b2\",[1])\n",
    "        calculated = tf.matmul(h1,w2) + b2\n",
    "\n",
    "        # sess.run(optimizer) to update the value of a state\n",
    "        newvals = tf.placeholder(\"float\",[None,1])\n",
    "        diffs = calculated - newvals\n",
    "        loss = tf.nn.l2_loss(diffs)\n",
    "        optimizer = tf.train.AdamOptimizer(0.1).minimize(loss)"
   ]
  },
  {
   "cell_type": "code",
   "execution_count": 6,
   "metadata": {
    "collapsed": true
   },
   "outputs": [],
   "source": [
    "q_table = np.random.uniform(low=-1, high=1, size=(4 ** 4, env.action_space.n))\n",
    "\n",
    "def bins(clip_min, clip_max, num):\n",
    "    return np.linspace(clip_min, clip_max, num + 1)[1:-1]\n",
    "\n",
    "def digitize_state(observation):\n",
    "    # change status to 4 x 4 x 4 x 4 indices = [0 255]\n",
    "    # then search matrix 256 x 2 actions..\n",
    "    cart_pos, cart_v, pole_angle, pole_v = observation\n",
    "    digitized = [np.digitize(cart_pos, bins=bins(-2.4, 2.4, 4)),\n",
    "                 np.digitize(cart_v, bins=bins(-3.0, 3.0, 4)),\n",
    "                 np.digitize(pole_angle, bins=bins(-0.5, 0.5, 4)),\n",
    "                 np.digitize(pole_v, bins=bins(-2.0, 2.0, 4))]\n",
    "    # [0  255]\n",
    "    return sum([x * (4 ** i) for i, x in enumerate(digitized)])"
   ]
  },
  {
   "cell_type": "code",
   "execution_count": 7,
   "metadata": {
    "collapsed": false
   },
   "outputs": [
    {
     "data": {
      "text/plain": [
       "86"
      ]
     },
     "execution_count": 7,
     "metadata": {},
     "output_type": "execute_result"
    }
   ],
   "source": [
    "digitize_state(observation)"
   ]
  },
  {
   "cell_type": "code",
   "execution_count": 8,
   "metadata": {
    "collapsed": false
   },
   "outputs": [
    {
     "data": {
      "text/plain": [
       "array([ 0.34599695,  0.76987585])"
      ]
     },
     "execution_count": 8,
     "metadata": {},
     "output_type": "execute_result"
    }
   ],
   "source": [
    "q_table[150]"
   ]
  },
  {
   "cell_type": "code",
   "execution_count": 9,
   "metadata": {
    "collapsed": true
   },
   "outputs": [],
   "source": [
    "def get_action(state, action, observation, reward):\n",
    "    next_state = digitize_state(observation)\n",
    "\n",
    "    epsilon = 0.1\n",
    "    r = np.random.uniform(0,1)\n",
    "    if r < epsilon:\n",
    "        next_action = np.argmax(q_table[next_state])\n",
    "    else:\n",
    "        next_action = np.random.choice([0,1])\n",
    "        \n",
    "    # update table ....\n",
    "    alpha = 0.2\n",
    "    gamma = 0.99\n",
    "    q_table[state, action] = (1 - alpha) * q_table[state, action] +\\\n",
    "            alpha * (reward + gamma * q_table[next_state, next_action])\n",
    "\n",
    "    return next_action, next_state"
   ]
  },
  {
   "cell_type": "code",
   "execution_count": 10,
   "metadata": {
    "collapsed": false
   },
   "outputs": [
    {
     "name": "stdout",
     "output_type": "stream",
     "text": [
      "0 Episode finished after 62.000000 time steps / mean 0.000000\n",
      "1 Episode finished after 34.000000 time steps / mean -1.390000\n",
      "2 Episode finished after 33.000000 time steps / mean -3.060000\n",
      "3 Episode finished after 18.000000 time steps / mean -4.740000\n",
      "4 Episode finished after 13.000000 time steps / mean -6.570000\n"
     ]
    }
   ],
   "source": [
    "for episode in range(num_episodes):\n",
    "    # init \n",
    "    observation = env.reset()\n",
    "\n",
    "    state = digitize_state(observation)\n",
    "    action = np.argmax(q_table[state])\n",
    "\n",
    "    episode_reward = 0\n",
    "    for t in range(max_number_of_steps):\n",
    "        #env.render()\n",
    "\n",
    "        # get observation , reward \n",
    "        observation, reward, done, info = env.step(action)\n",
    "\n",
    "        if done:\n",
    "            reward =- 200\n",
    "        # behavior\n",
    "        action, state = get_action(state, action, observation, reward)\n",
    "        episode_reward += reward\n",
    "        \n",
    "        if done:\n",
    "            print('%d Episode finished after %f time steps / mean %f' % (episode, t + 1,\n",
    "                last_time_steps.mean()))\n",
    "            last_time_steps = np.hstack((last_time_steps[1:], [episode_reward]))\n",
    "            break\n",
    "\n",
    "    if (last_time_steps.mean() >= goal_average_steps): # 直近の100エピソードが195以上であれば成功\n",
    "        print('Episode %d train agent successfuly!' % episode)\n",
    "        break\n",
    "        \n",
    "        "
   ]
  },
  {
   "cell_type": "code",
   "execution_count": null,
   "metadata": {
    "collapsed": true
   },
   "outputs": [],
   "source": []
  }
 ],
 "metadata": {
  "kernelspec": {
   "display_name": "Python (tensorflow)",
   "language": "python",
   "name": "tensorflow"
  },
  "language_info": {
   "codemirror_mode": {
    "name": "ipython",
    "version": 2
   },
   "file_extension": ".py",
   "mimetype": "text/x-python",
   "name": "python",
   "nbconvert_exporter": "python",
   "pygments_lexer": "ipython2",
   "version": "2.7.13"
  }
 },
 "nbformat": 4,
 "nbformat_minor": 2
}
