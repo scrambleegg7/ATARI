{
 "cells": [
  {
   "cell_type": "code",
   "execution_count": 2,
   "metadata": {
    "collapsed": true
   },
   "outputs": [],
   "source": [
    "import gym\n",
    "import numpy as np\n",
    "\n",
    "env = gym.make('CartPole-v0')\n",
    "\n",
    "goal_average_steps = 195\n",
    "max_number_of_steps = 200\n",
    "num_consecutive_iterations = 100\n",
    "num_episodes = 5\n",
    "last_time_steps = np.zeros(num_consecutive_iterations)\n"
   ]
  },
  {
   "cell_type": "code",
   "execution_count": 3,
   "metadata": {
    "collapsed": true
   },
   "outputs": [],
   "source": [
    "import tensorflow as tf"
   ]
  },
  {
   "cell_type": "code",
   "execution_count": 4,
   "metadata": {
    "collapsed": false
   },
   "outputs": [
    {
     "name": "stdout",
     "output_type": "stream",
     "text": [
      "[-0.02899742  0.03581846 -0.01303823  0.00349526]\n"
     ]
    }
   ],
   "source": [
    "observation = env.reset()\n",
    "#observation = np.expand_dims(observation,axis=0)\n",
    "print(observation)\n"
   ]
  },
  {
   "cell_type": "code",
   "execution_count": 4,
   "metadata": {
    "collapsed": false
   },
   "outputs": [
    {
     "name": "stdout",
     "output_type": "stream",
     "text": [
      "(array([ 0.04161311,  0.38799624,  0.01878862, -0.55793345]), 1.0, False, {})\n",
      "(array([ 0.04937303,  0.58284947,  0.00762995, -0.84463818]), 1.0, False, {})\n",
      "(array([ 0.06103002,  0.77786648, -0.00926282, -1.134912  ]), 1.0, False, {})\n",
      "(array([ 0.07658735,  0.97310841, -0.03196106, -1.43048555]), 1.0, False, {})\n",
      "(array([ 0.09604952,  1.16861001, -0.06057077, -1.73298314]), 1.0, False, {})\n",
      "(array([ 0.11942172,  1.36436866, -0.09523043, -2.04387955]), 1.0, False, {})\n",
      "(array([ 0.14670909,  1.56033094, -0.13610802, -2.36444656]), 1.0, False, {})\n",
      "(array([ 0.17791571,  1.75637668, -0.18339695, -2.69568782]), 1.0, False, {})\n",
      "(array([ 0.21304325,  1.95230052, -0.23731071, -3.03826203]), 1.0, True, {})\n",
      "(array([ 0.25208926,  2.14779176, -0.29807595, -3.39239689]), 0.0, True, {})\n"
     ]
    },
    {
     "name": "stderr",
     "output_type": "stream",
     "text": [
      "No handlers could be found for logger \"gym.envs.classic_control.cartpole\"\n"
     ]
    }
   ],
   "source": [
    "for i in range(10):\n",
    "    #env.render()\n",
    "    observations = env.step( 1 )\n",
    "    print(observations)"
   ]
  },
  {
   "cell_type": "code",
   "execution_count": 17,
   "metadata": {
    "collapsed": false
   },
   "outputs": [],
   "source": [
    "def policy_gradient():\n",
    "    with tf.variable_scope(\"mypolicy\",reuse=False):\n",
    "        v = tf.get_variable(\"policy_parameters\",[4,2])\n",
    "        # state\n",
    "        state = tf.placeholder(\"float\",[None,4])\n",
    "        # actions -1 or 1\n",
    "        actions = tf.placeholder(\"float\",[None,2])\n",
    "        linear = tf.matmul(state,params)\n",
    "        probabilities = tf.nn.softmax(linear)\n",
    "        good_probabilities = tf.reduce_sum(tf.mul(probabilities, actions),reduction_indices=[1])\n",
    "        # maximize the log probability\n",
    "        log_probabilities = tf.log(good_probabilities)\n",
    "        loss = -tf.reduce_sum(log_probabilities)\n",
    "        optimizer = tf.train.AdamOptimizer(0.01).minimize(loss)"
   ]
  },
  {
   "cell_type": "code",
   "execution_count": 19,
   "metadata": {
    "collapsed": false
   },
   "outputs": [],
   "source": [
    "def value_gradient():  \n",
    "    # sess.run(calculated) to calculate value of state\n",
    "    with tf.variable_scope(\"mypolicy_grad\",reuse=False):\n",
    "        state = tf.placeholder(\"float\",[None,4])\n",
    "        w1 = tf.get_variable(\"w1\",[4,10])\n",
    "        b1 = tf.get_variable(\"b1\",[10])\n",
    "        h1 = tf.nn.relu(tf.matmul(state,w1) + b1)\n",
    "        w2 = tf.get_variable(\"w2\",[10,1])\n",
    "        b2 = tf.get_variable(\"b2\",[1])\n",
    "        calculated = tf.matmul(h1,w2) + b2\n",
    "\n",
    "        # sess.run(optimizer) to update the value of a state\n",
    "        newvals = tf.placeholder(\"float\",[None,1])\n",
    "        diffs = calculated - newvals\n",
    "        loss = tf.nn.l2_loss(diffs)\n",
    "        optimizer = tf.train.AdamOptimizer(0.1).minimize(loss)"
   ]
  },
  {
   "cell_type": "code",
   "execution_count": 6,
   "metadata": {
    "collapsed": true
   },
   "outputs": [],
   "source": [
    "q_table = np.random.uniform(low=-1, high=1, size=(4 ** 4, env.action_space.n))\n",
    "\n",
    "def bins(clip_min, clip_max, num):\n",
    "    return np.linspace(clip_min, clip_max, num + 1)[1:-1]\n",
    "\n",
    "def digitize_state(observation):\n",
    "    # change status to 4 x 4 x 4 x 4 indices = [0 255]\n",
    "    # then search matrix 256 x 2 actions..\n",
    "    cart_pos, cart_v, pole_angle, pole_v = observation\n",
    "    digitized = [np.digitize(cart_pos, bins=bins(-2.4, 2.4, 4)),\n",
    "                 np.digitize(cart_v, bins=bins(-3.0, 3.0, 4)),\n",
    "                 np.digitize(pole_angle, bins=bins(-0.5, 0.5, 4)),\n",
    "                 np.digitize(pole_v, bins=bins(-2.0, 2.0, 4))]\n",
    "    # [0  255]\n",
    "    return sum([x * (4 ** i) for i, x in enumerate(digitized)])"
   ]
  },
  {
   "cell_type": "code",
   "execution_count": 7,
   "metadata": {
    "collapsed": false
   },
   "outputs": [
    {
     "data": {
      "text/plain": [
       "86"
      ]
     },
     "execution_count": 7,
     "metadata": {},
     "output_type": "execute_result"
    }
   ],
   "source": [
    "digitize_state(observation)"
   ]
  },
  {
   "cell_type": "code",
   "execution_count": 8,
   "metadata": {
    "collapsed": false
   },
   "outputs": [
    {
     "data": {
      "text/plain": [
       "array([ 0.34599695,  0.76987585])"
      ]
     },
     "execution_count": 8,
     "metadata": {},
     "output_type": "execute_result"
    }
   ],
   "source": [
    "q_table[150]"
   ]
  },
  {
   "cell_type": "code",
   "execution_count": 9,
   "metadata": {
    "collapsed": true
   },
   "outputs": [],
   "source": [
    "def get_action(state, action, observation, reward):\n",
    "    next_state = digitize_state(observation)\n",
    "\n",
    "    epsilon = 0.1\n",
    "    r = np.random.uniform(0,1)\n",
    "    if r < epsilon:\n",
    "        next_action = np.argmax(q_table[next_state])\n",
    "    else:\n",
    "        next_action = np.random.choice([0,1])\n",
    "        \n",
    "    # update table ....\n",
    "    alpha = 0.2\n",
    "    gamma = 0.99\n",
    "    q_table[state, action] = (1 - alpha) * q_table[state, action] +\\\n",
    "            alpha * (reward + gamma * q_table[next_state, next_action])\n",
    "\n",
    "    return next_action, next_state"
   ]
  },
  {
   "cell_type": "code",
   "execution_count": 10,
   "metadata": {
    "collapsed": false
   },
   "outputs": [
    {
     "name": "stdout",
     "output_type": "stream",
     "text": [
      "0 Episode finished after 62.000000 time steps / mean 0.000000\n",
      "1 Episode finished after 34.000000 time steps / mean -1.390000\n",
      "2 Episode finished after 33.000000 time steps / mean -3.060000\n",
      "3 Episode finished after 18.000000 time steps / mean -4.740000\n",
      "4 Episode finished after 13.000000 time steps / mean -6.570000\n"
     ]
    }
   ],
   "source": [
    "for episode in range(num_episodes):\n",
    "    # init \n",
    "    observation = env.reset()\n",
    "\n",
    "    state = digitize_state(observation)\n",
    "    action = np.argmax(q_table[state])\n",
    "\n",
    "    episode_reward = 0\n",
    "    for t in range(max_number_of_steps):\n",
    "        #env.render()\n",
    "\n",
    "        # get observation , reward \n",
    "        observation, reward, done, info = env.step(action)\n",
    "\n",
    "        if done:\n",
    "            reward =- 200\n",
    "        # behavior\n",
    "        action, state = get_action(state, action, observation, reward)\n",
    "        episode_reward += reward\n",
    "        \n",
    "        if done:\n",
    "            print('%d Episode finished after %f time steps / mean %f' % (episode, t + 1,\n",
    "                last_time_steps.mean()))\n",
    "            last_time_steps = np.hstack((last_time_steps[1:], [episode_reward]))\n",
    "            break\n",
    "\n",
    "    if (last_time_steps.mean() >= goal_average_steps): # 直近の100エピソードが195以上であれば成功\n",
    "        print('Episode %d train agent successfuly!' % episode)\n",
    "        break\n",
    "        \n",
    "        "
   ]
  },
  {
   "cell_type": "code",
   "execution_count": null,
   "metadata": {
    "collapsed": true
   },
   "outputs": [],
   "source": []
  }
 ],
 "metadata": {
  "kernelspec": {
   "display_name": "Python (tensorflow)",
   "language": "python",
   "name": "tensorflow"
  },
  "language_info": {
   "codemirror_mode": {
    "name": "ipython",
    "version": 2
   },
   "file_extension": ".py",
   "mimetype": "text/x-python",
   "name": "python",
   "nbconvert_exporter": "python",
   "pygments_lexer": "ipython2",
   "version": "2.7.13"
  }
 },
 "nbformat": 4,
 "nbformat_minor": 2
}
