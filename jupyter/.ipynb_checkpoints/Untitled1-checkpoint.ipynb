{
 "cells": [
  {
   "cell_type": "code",
   "execution_count": 1,
   "metadata": {
    "collapsed": false
   },
   "outputs": [
    {
     "name": "stderr",
     "output_type": "stream",
     "text": [
      "[2017-11-23 15:45:42,910] Making new env: MountainCar-v0\n"
     ]
    },
    {
     "ename": "KeyboardInterrupt",
     "evalue": "",
     "output_type": "error",
     "traceback": [
      "\u001b[0;31m---------------------------------------------------------------------------\u001b[0m",
      "\u001b[0;31mKeyboardInterrupt\u001b[0m                         Traceback (most recent call last)",
      "\u001b[0;32m<ipython-input-1-3fcfc569e552>\u001b[0m in \u001b[0;36m<module>\u001b[0;34m()\u001b[0m\n\u001b[1;32m     74\u001b[0m             \u001b[0mQ\u001b[0m \u001b[0;34m=\u001b[0m \u001b[0mtile\u001b[0m\u001b[0;34m.\u001b[0m\u001b[0mgetQ\u001b[0m\u001b[0;34m(\u001b[0m\u001b[0mF\u001b[0m\u001b[0;34m,\u001b[0m \u001b[0mtheta\u001b[0m\u001b[0;34m)\u001b[0m\u001b[0;34m\u001b[0m\u001b[0m\n\u001b[1;32m     75\u001b[0m             \u001b[0maction\u001b[0m \u001b[0;34m=\u001b[0m \u001b[0mnp\u001b[0m\u001b[0;34m.\u001b[0m\u001b[0margmax\u001b[0m\u001b[0;34m(\u001b[0m\u001b[0mQ\u001b[0m\u001b[0;34m)\u001b[0m\u001b[0;34m\u001b[0m\u001b[0m\n\u001b[0;32m---> 76\u001b[0;31m             \u001b[0mstate2\u001b[0m\u001b[0;34m,\u001b[0m \u001b[0mreward\u001b[0m\u001b[0;34m,\u001b[0m \u001b[0mdone\u001b[0m\u001b[0;34m,\u001b[0m \u001b[0minfo\u001b[0m \u001b[0;34m=\u001b[0m \u001b[0menv\u001b[0m\u001b[0;34m.\u001b[0m\u001b[0mstep\u001b[0m\u001b[0;34m(\u001b[0m\u001b[0maction\u001b[0m\u001b[0;34m)\u001b[0m\u001b[0;34m\u001b[0m\u001b[0m\n\u001b[0m\u001b[1;32m     77\u001b[0m             \u001b[0mG\u001b[0m \u001b[0;34m+=\u001b[0m \u001b[0mreward\u001b[0m\u001b[0;34m\u001b[0m\u001b[0m\n\u001b[1;32m     78\u001b[0m             \u001b[0mdelta\u001b[0m \u001b[0;34m=\u001b[0m \u001b[0mreward\u001b[0m \u001b[0;34m-\u001b[0m \u001b[0mQ\u001b[0m\u001b[0;34m[\u001b[0m\u001b[0maction\u001b[0m\u001b[0;34m]\u001b[0m\u001b[0;34m\u001b[0m\u001b[0m\n",
      "\u001b[0;32m/Users/donchan/Documents/Statistical_Mechanics/gym/gym/core.pyc\u001b[0m in \u001b[0;36mstep\u001b[0;34m(self, action)\u001b[0m\n\u001b[1;32m    120\u001b[0m         \"\"\"\n\u001b[1;32m    121\u001b[0m         \u001b[0mself\u001b[0m\u001b[0;34m.\u001b[0m\u001b[0mmonitor\u001b[0m\u001b[0;34m.\u001b[0m\u001b[0m_before_step\u001b[0m\u001b[0;34m(\u001b[0m\u001b[0maction\u001b[0m\u001b[0;34m)\u001b[0m\u001b[0;34m\u001b[0m\u001b[0m\n\u001b[0;32m--> 122\u001b[0;31m         \u001b[0mobservation\u001b[0m\u001b[0;34m,\u001b[0m \u001b[0mreward\u001b[0m\u001b[0;34m,\u001b[0m \u001b[0mdone\u001b[0m\u001b[0;34m,\u001b[0m \u001b[0minfo\u001b[0m \u001b[0;34m=\u001b[0m \u001b[0mself\u001b[0m\u001b[0;34m.\u001b[0m\u001b[0m_step\u001b[0m\u001b[0;34m(\u001b[0m\u001b[0maction\u001b[0m\u001b[0;34m)\u001b[0m\u001b[0;34m\u001b[0m\u001b[0m\n\u001b[0m\u001b[1;32m    123\u001b[0m \u001b[0;34m\u001b[0m\u001b[0m\n\u001b[1;32m    124\u001b[0m         \u001b[0mdone\u001b[0m \u001b[0;34m=\u001b[0m \u001b[0mself\u001b[0m\u001b[0;34m.\u001b[0m\u001b[0mmonitor\u001b[0m\u001b[0;34m.\u001b[0m\u001b[0m_after_step\u001b[0m\u001b[0;34m(\u001b[0m\u001b[0mobservation\u001b[0m\u001b[0;34m,\u001b[0m \u001b[0mreward\u001b[0m\u001b[0;34m,\u001b[0m \u001b[0mdone\u001b[0m\u001b[0;34m,\u001b[0m \u001b[0minfo\u001b[0m\u001b[0;34m)\u001b[0m\u001b[0;34m\u001b[0m\u001b[0m\n",
      "\u001b[0;32m/Users/donchan/Documents/Statistical_Mechanics/gym/gym/envs/classic_control/mountain_car.pyc\u001b[0m in \u001b[0;36m_step\u001b[0;34m(self, action)\u001b[0m\n\u001b[1;32m     40\u001b[0m \u001b[0;34m\u001b[0m\u001b[0m\n\u001b[1;32m     41\u001b[0m         \u001b[0mposition\u001b[0m\u001b[0;34m,\u001b[0m \u001b[0mvelocity\u001b[0m \u001b[0;34m=\u001b[0m \u001b[0mself\u001b[0m\u001b[0;34m.\u001b[0m\u001b[0mstate\u001b[0m\u001b[0;34m\u001b[0m\u001b[0m\n\u001b[0;32m---> 42\u001b[0;31m         \u001b[0mvelocity\u001b[0m \u001b[0;34m+=\u001b[0m \u001b[0;34m(\u001b[0m\u001b[0maction\u001b[0m\u001b[0;34m-\u001b[0m\u001b[0;36m1\u001b[0m\u001b[0;34m)\u001b[0m\u001b[0;34m*\u001b[0m\u001b[0;36m0.001\u001b[0m \u001b[0;34m+\u001b[0m \u001b[0mmath\u001b[0m\u001b[0;34m.\u001b[0m\u001b[0mcos\u001b[0m\u001b[0;34m(\u001b[0m\u001b[0;36m3\u001b[0m\u001b[0;34m*\u001b[0m\u001b[0mposition\u001b[0m\u001b[0;34m)\u001b[0m\u001b[0;34m*\u001b[0m\u001b[0;34m(\u001b[0m\u001b[0;34m-\u001b[0m\u001b[0;36m0.0025\u001b[0m\u001b[0;34m)\u001b[0m\u001b[0;34m\u001b[0m\u001b[0m\n\u001b[0m\u001b[1;32m     43\u001b[0m         \u001b[0mvelocity\u001b[0m \u001b[0;34m=\u001b[0m \u001b[0mnp\u001b[0m\u001b[0;34m.\u001b[0m\u001b[0mclip\u001b[0m\u001b[0;34m(\u001b[0m\u001b[0mvelocity\u001b[0m\u001b[0;34m,\u001b[0m \u001b[0;34m-\u001b[0m\u001b[0mself\u001b[0m\u001b[0;34m.\u001b[0m\u001b[0mmax_speed\u001b[0m\u001b[0;34m,\u001b[0m \u001b[0mself\u001b[0m\u001b[0;34m.\u001b[0m\u001b[0mmax_speed\u001b[0m\u001b[0;34m)\u001b[0m\u001b[0;34m\u001b[0m\u001b[0m\n\u001b[1;32m     44\u001b[0m         \u001b[0mposition\u001b[0m \u001b[0;34m+=\u001b[0m \u001b[0mvelocity\u001b[0m\u001b[0;34m\u001b[0m\u001b[0m\n",
      "\u001b[0;31mKeyboardInterrupt\u001b[0m: "
     ]
    }
   ],
   "source": [
    "import gym\n",
    "import numpy as np\n",
    "env = gym.make(\"MountainCar-v0\")\n",
    "\n",
    "class Tilecoder:\n",
    "\n",
    "    def __init__(self, numTilings, tilesPerTiling):\n",
    "        # Set max value for normalization of inputs\n",
    "        self.maxNormal = 1\n",
    "        self.maxVal = env.observation_space.high\n",
    "        self.minVal = env.observation_space.low\n",
    "        self.numTilings = numTilings\n",
    "        self.tilesPerTiling = tilesPerTiling\n",
    "        self.dim = len(self.maxVal)\n",
    "        self.numTiles = (self.tilesPerTiling**self.dim) * self.numTilings\n",
    "        self.actions = env.action_space.n\n",
    "        self.n = self.numTiles * self.actions\n",
    "        self.tileSize = np.divide(np.ones(self.dim)*self.maxNormal, self.tilesPerTiling-1)\n",
    "\n",
    "    def getFeatures(self, variables):\n",
    "        # Ensures range is always between 0 and self.maxValue\n",
    "        values = np.zeros(self.dim)\n",
    "        for i in range(len(env.observation_space.shape)+1):\n",
    "            values[i] = self.maxNormal * ((variables[i] - self.minVal[i])/(self.maxVal[i]-self.minVal[i]))\n",
    "        tileIndices = np.zeros(self.numTilings)\n",
    "        matrix = np.zeros([self.numTilings,self.dim])\n",
    "        for i in range(self.numTilings):\n",
    "            for i2 in range(self.dim):\n",
    "                matrix[i,i2] = int(values[i2] / self.tileSize[i2] + i / self.numTilings)\n",
    "        for i in range(1,self.dim):\n",
    "            matrix[:,i] *= self.tilesPerTiling**i\n",
    "        for i in range(self.numTilings):\n",
    "            tileIndices[i] = (i * (self.tilesPerTiling**self.dim) + sum(matrix[i,:])) \n",
    "        return tileIndices\n",
    "\n",
    "    def oneHotVector(self, features, action):\n",
    "        oneHot = np.zeros(self.n)\n",
    "        for i in features:\n",
    "            index = int(i + (self.numTiles*action))\n",
    "            oneHot[index] = 1\n",
    "        return oneHot\n",
    "\n",
    "    def getVal(self, theta, features, action):\n",
    "        val = 0 \n",
    "        for i in features:\n",
    "            index = int(i + (self.numTiles*action))\n",
    "            val += theta[index]\n",
    "        return val\n",
    "\n",
    "    def getQ(self, features, theta):\n",
    "        Q = np.zeros(self.actions)\n",
    "        for i in range(self.actions):\n",
    "            Q[i] = tile.getVal(theta, features, i)\n",
    "        return Q\n",
    "\n",
    "\n",
    "if __name__ == \"__main__\":\n",
    "\n",
    "    tile = Tilecoder(7,14)\n",
    "    theta = np.random.uniform(-0.001, 0, size=(tile.n))\n",
    "    alpha = (.1/ tile.numTilings)*3.2\n",
    "    gamma = 1\n",
    "    numEpisodes = 100000\n",
    "    rewardTracker = []\n",
    "    episodeSum = 0\n",
    "    counter = 0 \n",
    "\n",
    "    for episodeNum in range(1,numEpisodes+1):\n",
    "        G = 0\n",
    "        state = env.reset()\n",
    "        while True:\n",
    "            #env.render()\n",
    "            F = tile.getFeatures(state)\n",
    "            Q = tile.getQ(F, theta)\n",
    "            action = np.argmax(Q)\n",
    "            state2, reward, done, info = env.step(action)\n",
    "            G += reward\n",
    "            delta = reward - Q[action]\n",
    "            print(\"accumulated reward {}\".format(G))\n",
    "            if done == True:\n",
    "                theta += np.multiply((alpha*delta), tile.oneHotVector(F,action))\n",
    "                episodeSum += G\n",
    "                rewardTracker.append(G)\n",
    "                if episodeNum %100 == 0:\n",
    "                    print('Average reward = {}'.format(episodeSum / 100))\n",
    "                    episodeSum = 0\n",
    "                break\n",
    "            Q = tile.getQ(tile.getFeatures(state2), theta)\n",
    "            delta += gamma*np.max(Q)\n",
    "            theta += np.multiply((alpha*delta), tile.oneHotVector(F,action))\n",
    "            state = state2\n",
    "\n",
    "        if episodeNum > 100:\n",
    "            if sum(rewardTracker[episodeNum-100:episodeNum])/100 >= -110:\n",
    "                print('Solve in {} Episodes'.format(episodeNum))\n",
    "break"
   ]
  },
  {
   "cell_type": "code",
   "execution_count": null,
   "metadata": {
    "collapsed": true
   },
   "outputs": [],
   "source": []
  }
 ],
 "metadata": {
  "kernelspec": {
   "display_name": "Python (root)",
   "language": "python",
   "name": "root"
  },
  "language_info": {
   "codemirror_mode": {
    "name": "ipython",
    "version": 2
   },
   "file_extension": ".py",
   "mimetype": "text/x-python",
   "name": "python",
   "nbconvert_exporter": "python",
   "pygments_lexer": "ipython2",
   "version": "2.7.11"
  }
 },
 "nbformat": 4,
 "nbformat_minor": 2
}
